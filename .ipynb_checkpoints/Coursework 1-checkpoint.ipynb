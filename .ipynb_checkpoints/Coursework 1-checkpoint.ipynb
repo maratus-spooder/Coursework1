{
 "cells": [
  {
   "cell_type": "markdown",
   "metadata": {},
   "source": [
    "### Question 1\n",
    "a) Read the file “Length-cells.csv” (it contains two datasets: length of normal cells and that of cancer cells)"
   ]
  },
  {
   "cell_type": "code",
   "execution_count": 1,
   "metadata": {},
   "outputs": [],
   "source": [
    "import csv\n",
    "csvfile = open('Length-cells.csv', 'r') \n",
    "mycsv = csv.reader(csvfile)\n",
    "next(mycsv)\n",
    "x1=[]\n",
    "y1=[]\n",
    "for row in mycsv:\n",
    "    x1.append(float(row[0]))\n",
    "    y1.append(float(row[1]))"
   ]
  },
  {
   "cell_type": "code",
   "execution_count": 2,
   "metadata": {},
   "outputs": [],
   "source": [
    "import array as ar\n",
    "x=ar.array(\"f\",x1)\n",
    "y=ar.array(\"f\",y1)"
   ]
  },
  {
   "cell_type": "code",
   "execution_count": 3,
   "metadata": {},
   "outputs": [
    {
     "name": "stdout",
     "output_type": "stream",
     "text": [
      "array('f', [24.59000015258789, 95.7699966430664, 53.93000030517578, 56.869998931884766, 89.11000061035156, 57.18000030517578, 52.029998779296875, 36.349998474121094, 64.2699966430664, 70.72000122070312, 71.52999877929688, 56.02000045776367, 78.8499984741211, 55.40999984741211, 76.06999969482422, 85.47000122070312, 56.97999954223633, 65.0, 48.52000045776367, 80.91999816894531, 46.68000030517578, 64.76000213623047, 95.0, 55.470001220703125, 74.5, 70.0, 96.19999694824219, 55.970001220703125, 51.75, 50.0, 82.29000091552734, 81.66000366210938, 72.43000030517578, 98.0, 94.91000366210938, 86.48999786376953, 76.7300033569336, 70.87999725341797, 82.16999816894531, 66.77999877929688])\n"
     ]
    }
   ],
   "source": [
    "print(x)\n"
   ]
  },
  {
   "cell_type": "code",
   "execution_count": 4,
   "metadata": {},
   "outputs": [
    {
     "name": "stdout",
     "output_type": "stream",
     "text": [
      "array('f', [51.5099983215332, 35.529998779296875, 37.540000915527344, 38.09000015258789, 49.59000015258789, 45.349998474121094, 64.55999755859375, 30.780000686645508, 34.43000030517578, 30.1200008392334, 31.799999237060547, 36.91999816894531, 51.56999969482422, 31.420000076293945, 32.369998931884766, 36.40999984741211, 35.20000076293945, 28.3700008392334, 32.790000915527344, 31.989999771118164, 28.389999389648438, 34.119998931884766, 39.25, 43.54999923706055, 40.5099983215332, 45.70000076293945, 42.709999084472656, 58.70000076293945, 29.68000030517578, 28.920000076293945, 28.65999984741211, 48.77000045776367, 38.59000015258789, 37.77000045776367, 43.9900016784668, 33.5099983215332, 35.56999969482422, 33.52000045776367, 41.65999984741211, 33.09000015258789])\n"
     ]
    }
   ],
   "source": [
    "print(y)"
   ]
  },
  {
   "cell_type": "code",
   "execution_count": 5,
   "metadata": {},
   "outputs": [],
   "source": [
    "import matplotlib.pyplot as plt"
   ]
  },
  {
   "cell_type": "code",
   "execution_count": 6,
   "metadata": {},
   "outputs": [
    {
     "data": {
      "image/png": "[encoded data removed]",
      "text/plain": [
       "<Figure size 432x288 with 1 Axes>"
      ]
     },
     "metadata": {
      "needs_background": "light"
     },
     "output_type": "display_data"
    }
   ],
   "source": [
    "plt.hist(x, len(x), alpha = 0.5, label='normal cells')\n",
    "plt.hist(y, len(y), alpha = 0.5, label='cancer cells')\n",
    "plt.legend(loc='upper right')\n",
    "plt.show()"
   ]
  },
  {
   "cell_type": "markdown",
   "metadata": {},
   "source": [
    "### Question 2\n",
    "- Generate 100 random real numbers in the range [1, 200]\n",
    "- Round off the generated numbers to 2 digits and print out the full list\n",
    "- Generate an array of 50 random integers numbers in the range [1, 100]\n",
    "- Generate an array of 50 random real numbers in the range [0, 1]\n",
    "- Plot the arrays of random real and integer numbers as histograms (provide a\n",
    "legend)\n",
    "- Sort the dataset of random real numbers in ascending order\n",
    "- Sort the dataset of random integer numbers in descending order\n",
    "- Swap the first and last numbers in the sorted dataset of random real\n",
    "numbers. Print out the result"
   ]
  },
  {
   "cell_type": "code",
   "execution_count": 16,
   "metadata": {},
   "outputs": [
    {
     "name": "stdout",
     "output_type": "stream",
     "text": [
      "[139.64, 7.11, 87.41, 189.48, 20.24, 105.5, 95.88, 36.3, 108.12, 158.3, 3.81, 69.96, 139.2, 23.98, 124.94, 132.39, 199.02, 48.17, 30.38, 87.66, 84.22, 95.47, 197.09, 111.0, 61.7, 31.89, 92.03, 96.2, 135.87, 3.57, 118.11, 66.74, 190.25, 13.15, 25.54, 184.63, 187.73, 180.26, 15.31, 88.99, 179.83, 172.87, 173.95, 11.43, 105.9, 22.21, 70.17, 2.12, 101.74, 167.41, 16.41, 21.49, 112.12, 167.46, 145.33, 165.7, 154.21, 118.39, 11.54, 183.74, 190.27, 25.87, 139.74, 53.8, 18.68, 27.81, 8.34, 50.34, 48.36, 22.05, 7.82, 22.96, 31.27, 18.54, 48.66, 51.35, 65.12, 24.55, 38.75, 48.58, 178.34, 31.64, 68.17, 168.52, 14.43, 162.39, 189.42, 158.44, 2.32, 103.42, 59.12, 103.74, 148.4, 30.22, 86.63, 76.14, 38.77, 89.91, 107.81, 144.17]\n"
     ]
    }
   ],
   "source": [
    "import random\n",
    "\n",
    "my100numbers = []\n",
    "\n",
    "for i in range(0,100):\n",
    "    x = random.uniform(1, 200)\n",
    "    x2=float(\"{0:.2f}\".format(x))\n",
    "    my100numbers.append(x2)\n",
    "    \n",
    "\n",
    "print(my100numbers)"
   ]
  },
  {
   "cell_type": "code",
   "execution_count": 17,
   "metadata": {},
   "outputs": [],
   "source": [
    "my50numbers = []\n",
    "\n",
    "for i in range(0,50):\n",
    "    x = random.randrange(1, 100)\n",
    "    my50numbers.append(x)\n",
    "x=ar.array(\"i\",my50numbers)"
   ]
  },
  {
   "cell_type": "code",
   "execution_count": 18,
   "metadata": {},
   "outputs": [],
   "source": [
    "my50realnumbers = []\n",
    "\n",
    "for i in range(0,50):\n",
    "    x = random.uniform(0, 1)\n",
    "    my50realnumbers.append(x)\n",
    "x=ar.array(\"f\",my50realnumbers)"
   ]
  },
  {
   "cell_type": "code",
   "execution_count": 19,
   "metadata": {},
   "outputs": [],
   "source": [
    "import numpy as np\n",
    "\n",
    "my50realnumbers=np.array(my50realnumbers)\n",
    "my50numbers=np.array(my50numbers)"
   ]
  },
  {
   "cell_type": "code",
   "execution_count": 11,
   "metadata": {},
   "outputs": [
    {
     "data": {
      "image/png": "[encoded data removed]",
      "text/plain": [
       "<Figure size 432x288 with 1 Axes>"
      ]
     },
     "metadata": {
      "needs_background": "light"
     },
     "output_type": "display_data"
    }
   ],
   "source": [
    "plt.hist(my50numbers, len(my50numbers), alpha = 0.5, label='Integers')\n",
    "plt.hist(my50realnumbers*100, len(my50realnumbers), alpha = 0.5, label='Real Numbers*100')\n",
    "plt.legend(loc='upper right')\n",
    "plt.show()"
   ]
  },
  {
   "cell_type": "code",
   "execution_count": 12,
   "metadata": {},
   "outputs": [],
   "source": [
    "my50realnumbers = np.sort(my50realnumbers)\n",
    "my50numbers = np.sort(my50numbers)\n",
    "my50numbers = my50numbers[::-1]"
   ]
  },
  {
   "cell_type": "code",
   "execution_count": 13,
   "metadata": {},
   "outputs": [],
   "source": [
    "temp = my50realnumbers[0]\n",
    "my50realnumbers[0] = my50realnumbers[len(my50realnumbers)-1]\n",
    "my50realnumbers[len(my50realnumbers)-1] = temp\n"
   ]
  },
  {
   "cell_type": "code",
   "execution_count": 14,
   "metadata": {},
   "outputs": [
    {
     "name": "stdout",
     "output_type": "stream",
     "text": [
      "[0.99004525 0.03787699 0.077926   0.08903945 0.14213846 0.14995053\n",
      " 0.16454198 0.17492568 0.17768058 0.19479769 0.31967356 0.36759764\n",
      " 0.3898807  0.4396323  0.47471634 0.52565944 0.55202676 0.55827289\n",
      " 0.56702048 0.57296524 0.57369184 0.57808439 0.58722845 0.60303258\n",
      " 0.63072198 0.63074412 0.67747664 0.6954996  0.70620941 0.73163741\n",
      " 0.74455491 0.74993095 0.75079482 0.78894493 0.7998052  0.80883161\n",
      " 0.82828327 0.83918602 0.84634441 0.8707849  0.89883302 0.90270238\n",
      " 0.91684611 0.92274779 0.92479178 0.92685768 0.93101721 0.93403503\n",
      " 0.95424211 0.02580445]\n"
     ]
    }
   ],
   "source": [
    "print (my50realnumbers)"
   ]
  },
  {
   "cell_type": "code",
   "execution_count": null,
   "metadata": {},
   "outputs": [],
   "source": []
  }
 ],
 "metadata": {
  "kernelspec": {
   "display_name": "Python 3",
   "language": "python",
   "name": "python3"
  },
  "language_info": {
   "codemirror_mode": {
    "name": "ipython",
    "version": 3
   },
   "file_extension": ".py",
   "mimetype": "text/x-python",
   "name": "python",
   "nbconvert_exporter": "python",
   "pygments_lexer": "ipython3",
   "version": "3.7.4"
  }
 },
 "nbformat": 4,
 "nbformat_minor": 2
}
